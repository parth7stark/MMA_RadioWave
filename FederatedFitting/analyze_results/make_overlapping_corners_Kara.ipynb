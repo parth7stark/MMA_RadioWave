{
 "cells": [
  {
   "cell_type": "markdown",
   "id": "1134870e-8977-418f-b9c2-839a00370cdf",
   "metadata": {},
   "source": [
    "In this notebook we write the code to make the overlapping corner plots."
   ]
  },
  {
   "cell_type": "code",
   "execution_count": 1,
   "id": "2dff423e-7c87-48ce-9ea2-0a4629c2614d",
   "metadata": {},
   "outputs": [],
   "source": [
    "import corner\n",
    "import matplotlib.pyplot as plt\n",
    "from scipy.stats import gaussian_kde\n",
    "import numpy as np\n",
    "from matplotlib.lines import Line2D\n",
    "\n",
    "\n",
    "plt.rcdefaults()"
   ]
  },
  {
   "cell_type": "markdown",
   "id": "83fe45fc-917a-4ac2-a5a6-cd99398c87c3",
   "metadata": {},
   "source": [
    "First we load up all of the samples that we want to show:"
   ]
  },
  {
   "cell_type": "code",
   "execution_count": 2,
   "id": "c4911fa7-571b-4ac2-b90f-ad5e995a16cd",
   "metadata": {},
   "outputs": [],
   "source": [
    "import pickle\n",
    "\n",
    "def log_probability(theta, nu, x, y, yerr):\n",
    "\n",
    "    lp = log_prior(theta)\n",
    "\n",
    "    if not np.isfinite(lp):\n",
    "        return -np.inf\n",
    "    return lp + log_likelihood(theta, nu, x, y, yerr)\n",
    "\n",
    "def load_samples(file_path):\n",
    "    with open(file_path, 'rb') as f:\n",
    "        Dingo_sampler = pickle.load(f)\n",
    "    \n",
    "    Dingo_samples = Dingo_sampler.get_chain(flat = True)\n",
    "    \n",
    "    #The 1st index is theta_obs, the [-1st] idx is DL.\n",
    "    #We want the [theta_obs, DL] for each of the lists in Dingo_samples\n",
    "    \n",
    "    Dingo_samples1 = [[float(Dingo_samples[i][1]), float(Dingo_samples[i][-1])] for i in range(len(Dingo_samples))]\n",
    "    return Dingo_samples1"
   ]
  },
  {
   "cell_type": "markdown",
   "id": "8f4fa272-ace8-4594-ae8e-869d4b34af08",
   "metadata": {},
   "source": [
    "Load up the posteriors we want to plot below, and then make them into a list."
   ]
  },
  {
   "cell_type": "code",
   "execution_count": 38,
   "id": "a10ab88c-dd6c-47af-85b2-082cd411b029",
   "metadata": {},
   "outputs": [],
   "source": [
    "DL10_100_theta0_pi2 = load_samples('./with_ini/DL10_100_thetaobs0_pi2_sampler.pkl')\n",
    "uninformed_theta = load_samples('./with_ini/Dingo_sampler.pkl')\n",
    "theta_from_dingo = load_samples('./with_ini/Dingo_thetaObs_p227_1p19_sampler.pkl')\n",
    "DLcheck = load_samples('./with_ini/DLcheck_sampler.pkl')"
   ]
  },
  {
   "cell_type": "markdown",
   "id": "338cf1a1-338b-4c3b-8417-7df8dd84a9b7",
   "metadata": {},
   "source": [
    "We put these into lists, along with the colors and labels we want to use."
   ]
  },
  {
   "cell_type": "code",
   "execution_count": 39,
   "id": "0dbffebf-277d-489a-91ed-e43f53793ef4",
   "metadata": {},
   "outputs": [],
   "source": [
    "list_of_samples = [DLcheck , DL10_100_theta0_pi2, uninformed_theta, theta_from_dingo]\n",
    "colors = ['yellow', 'purple','purple', 'red']\n",
    "labels = [r'38 < DL < 42, $0<\\theta_{obs}<\\frac{\\pi}{2}$', r'10 < DL < 100, $0<\\theta_{obs}<\\frac{\\pi}{2}$' , r'18.5 < DL < 45.4, $0<\\theta_{obs}<\\frac{\\pi}{2}$', r'18.5 < DL < 45.4, $0.227<\\theta_{obs}<1.19$']\n",
    "labels = ['Dingo Placeholder', r'10 < DL < 100, $0<\\theta_{obs}<\\frac{\\pi}{2}$' , r'18.5 < DL < 45.4, $0<\\theta_{obs}<\\frac{\\pi}{2}$', r'18.5 < DL < 45.4, $0.227<\\theta_{obs}<1.19$']\n",
    "\n",
    "linestyles = ['-', '--', '-.']"
   ]
  },
  {
   "cell_type": "markdown",
   "id": "0a40992b-2447-4240-9950-cc49a9a06194",
   "metadata": {},
   "source": [
    "The function that generates the corner plots:"
   ]
  },
  {
   "cell_type": "code",
   "execution_count": 46,
   "id": "102f71c1-82d8-4f99-8330-62fb235d0a89",
   "metadata": {},
   "outputs": [],
   "source": [
    "\n",
    "\n",
    "def make_many_corners(list_of_samples = list_of_samples, names = labels, colors = colors, linestyles = linestyles, title = '68% confidence intervals', meshgrid_number = 50):\n",
    "\n",
    "    default_colors = plt.rcParams['axes.prop_cycle'].by_key()['color']\n",
    "\n",
    "    list_of_samples = [np.array(samples) for samples in list_of_samples]\n",
    "\n",
    "    list_of_thetaObs = [samples[:, 0] for samples in list_of_samples]\n",
    "    list_of_DL = [samples[:, 1] for samples in list_of_samples]\n",
    "\n",
    "    datasets = [(theta_obs, DL, name, color, .8, linestyle) for theta_obs, DL, name, color, linestyle in zip(list_of_thetaObs, list_of_DL, names, colors, linestyles)]\n",
    "\n",
    "    # Gather all x and y values into single arrays for global min/max\n",
    "    all_thetaObs = np.concatenate([np.array(x) for x, _, _, _, _, _ in datasets])\n",
    "    all_DL = np.concatenate([np.array(y) for _, y, _, _, _, _ in datasets])\n",
    "    \n",
    "    # Compute global min/max for all datasets\n",
    "    xmin, xmax = np.percentile(all_thetaObs, [1, 99])\n",
    "    ymin, ymax = np.percentile(all_DL, [1, 99])\n",
    "    \n",
    "    # Set up the grid once, outside the loop\n",
    "    xx, yy = np.meshgrid(\n",
    "        np.linspace(xmin, xmax, meshgrid_number),\n",
    "        np.linspace(ymin, ymax, meshgrid_number)\n",
    "    )\n",
    "    positions = np.vstack([xx.ravel(), yy.ravel()])\n",
    "    \n",
    "    fig, ax = plt.subplots(figsize=(5, 4))\n",
    "    \n",
    "    for x, y, label, color, alpha, linestyle in datasets:\n",
    "        samples = np.vstack([x, y])\n",
    "        kde = gaussian_kde(samples)\n",
    "        zz = kde(positions).reshape(xx.shape)\n",
    "    \n",
    "        # Find the value of the KDE that encloses 90% of the probability\n",
    "        z_sorted = np.sort(zz.ravel())[::-1]\n",
    "        cumulative = np.cumsum(z_sorted)\n",
    "        cumulative /= cumulative[-1]\n",
    "        level_90 = z_sorted[np.searchsorted(cumulative, 0.68)]\n",
    "    \n",
    "        # Draw the 90% contour for this dataset\n",
    "        ax.contour(xx, yy, zz, levels=[level_90], colors=color, linewidths=1, label=label, alpha=alpha, linestyles = linestyle)\n",
    "    \n",
    "    # Add labels and legend\n",
    "    ax.set_xlabel(r'$\\theta_{obs}$ (rad)')\n",
    "    ax.set_ylabel('$D_L$ (Mpc)')\n",
    "    #ax.set_yscale('log')\n",
    "    ax.set_title(title)\n",
    "    \n",
    "    legend_elements = [Line2D([0], [0], color=color, lw=1, label=label, alpha = alpha, linestyle = linestyle) for _, _, label, color, alpha, linestyle in datasets]\n",
    "    plt.legend(handles = legend_elements, loc = 'lower center', bbox_to_anchor = (.5, -0.5), ncol = 1)\n",
    "    \n",
    "\n",
    "    plt.tight_layout()\n",
    "    plt.subplots_adjust(bottom=0.15)  # Adjust the fraction as needed\n",
    "    #plt.savefig('Hotokezaka_plot90.png', dpi=300, bbox_inches='tight')\n",
    "    \n",
    "    plt.show()\n"
   ]
  },
  {
   "cell_type": "code",
   "execution_count": 44,
   "id": "3c23ff68-4a9a-4f7e-9a94-d763ec13866e",
   "metadata": {},
   "outputs": [],
   "source": [
    "import numpy as np\n",
    "import matplotlib.pyplot as plt\n",
    "from matplotlib.lines import Line2D\n",
    "from scipy.stats import gaussian_kde\n",
    "\n",
    "def make_many_corners_filled(list_of_samples, names, colors, linestyles, title='68% confidence intervals', meshgrid_number=50):\n",
    "    default_colors = plt.rcParams['axes.prop_cycle'].by_key()['color']\n",
    "    list_of_samples = [np.array(samples) for samples in list_of_samples]\n",
    "    list_of_thetaObs = [samples[:, 0] for samples in list_of_samples]\n",
    "    list_of_DL = [samples[:, 1] for samples in list_of_samples]\n",
    "\n",
    "    datasets = [(theta_obs, DL, name, color, .8, linestyle) \n",
    "                for theta_obs, DL, name, color, linestyle \n",
    "                in zip(list_of_thetaObs, list_of_DL, names, colors, linestyles)]\n",
    "\n",
    "    # Gather all x and y values into single arrays for global min/max\n",
    "    all_thetaObs = np.concatenate([np.array(x) for x, _, _, _, _, _ in datasets])\n",
    "    all_DL = np.concatenate([np.array(y) for _, y, _, _, _, _ in datasets])\n",
    "    xmin, xmax = np.percentile(all_thetaObs, [1, 99])\n",
    "    ymin, ymax = np.percentile(all_DL, [1, 99])\n",
    "\n",
    "    xx, yy = np.meshgrid(\n",
    "        np.linspace(xmin, xmax, meshgrid_number),\n",
    "        np.linspace(ymin, ymax, meshgrid_number)\n",
    "    )\n",
    "    positions = np.vstack([xx.ravel(), yy.ravel()])\n",
    "\n",
    "    fig, ax = plt.subplots(figsize=(5, 4))\n",
    "\n",
    "    for x, y, label, color, alpha, linestyle in datasets:\n",
    "        samples = np.vstack([x, y])\n",
    "        kde = gaussian_kde(samples)\n",
    "        zz = kde(positions).reshape(xx.shape)\n",
    "\n",
    "        # Find the KDE value that encloses 90% of the probability\n",
    "        z_sorted = np.sort(zz.ravel())[::-1]\n",
    "        cumulative = np.cumsum(z_sorted)\n",
    "        cumulative /= cumulative[-1]\n",
    "        level_90 = z_sorted[np.searchsorted(cumulative, 0.68)]\n",
    "\n",
    "        # Fill the region inside the 90% contour\n",
    "        contourf = ax.contourf(\n",
    "            xx, yy, zz, \n",
    "            levels=[level_90, zz.max()], \n",
    "            colors=[color], \n",
    "            alpha=0.3,  # adjust for fill transparency\n",
    "            antialiased=True\n",
    "        )\n",
    "        # Optionally, draw the outline contour as well\n",
    "        ax.contour(\n",
    "            xx, yy, zz, \n",
    "            levels=[level_90], \n",
    "            colors=[color], \n",
    "            linewidths=1, \n",
    "            linestyles=linestyle, \n",
    "            alpha=alpha, \n",
    "            label=label\n",
    "        )\n",
    "\n",
    "    # Add labels and legend\n",
    "    ax.set_xlabel(r'$\\theta_{obs}$ (rad)')\n",
    "    ax.set_ylabel('$D_L$ (Mpc)')\n",
    "    ax.set_title(title)\n",
    "\n",
    "    legend_elements = [\n",
    "        Line2D([0], [0], color=color, lw=2, label=label, alpha=0.8, linestyle=linestyle)\n",
    "        for _, _, label, color, _, linestyle in datasets\n",
    "    ]\n",
    "    plt.legend(handles=legend_elements, loc='lower center', bbox_to_anchor=(.5, -0.5), ncol=1)\n",
    "\n",
    "    plt.tight_layout()\n",
    "    plt.subplots_adjust(bottom=0.15)\n",
    "    plt.show()\n"
   ]
  },
  {
   "cell_type": "code",
   "execution_count": 47,
   "id": "d7f4a0f1-48e0-4bce-ac5f-39f4701b94d4",
   "metadata": {},
   "outputs": [
    {
     "name": "stderr",
     "output_type": "stream",
     "text": [
      "/var/folders/1f/xb_k0m151dndtvb4fsk2kfg80000gq/T/ipykernel_91814/4097058173.py:50: UserWarning: The following kwargs were not used by contour: 'label'\n",
      "  ax.contour(\n"
     ]
    },
    {
     "data": {
      "image/png": "[encoded data removed]",
      "text/plain": [
       "<Figure size 500x400 with 1 Axes>"
      ]
     },
     "metadata": {},
     "output_type": "display_data"
    }
   ],
   "source": [
    "make_many_corners_filled(list_of_samples = list_of_samples[0:2], names = labels[0:2], colors = colors[0:2], linestyles = linestyles[0:2])"
   ]
  },
  {
   "cell_type": "code",
   "execution_count": 48,
   "id": "47b84038-53dd-4a71-ad7b-91ae4ee15f2e",
   "metadata": {},
   "outputs": [
    {
     "name": "stderr",
     "output_type": "stream",
     "text": [
      "/var/folders/1f/xb_k0m151dndtvb4fsk2kfg80000gq/T/ipykernel_91814/1817763727.py:41: UserWarning: The following kwargs were not used by contour: 'label'\n",
      "  ax.contour(xx, yy, zz, levels=[level_90], colors=color, linewidths=1, label=label, alpha=alpha, linestyles = linestyle)\n"
     ]
    },
    {
     "data": {
      "image/png": "[encoded data removed]",
      "text/plain": [
       "<Figure size 500x400 with 1 Axes>"
      ]
     },
     "metadata": {},
     "output_type": "display_data"
    }
   ],
   "source": [
    "make_many_corners(list_of_samples = list_of_samples[0:2], names = labels[0:2], colors = colors[0:2], linestyles = linestyles[0:2])"
   ]
  },
  {
   "cell_type": "code",
   "execution_count": null,
   "id": "0d15cc01-c12e-413d-adab-34b73f80fdca",
   "metadata": {},
   "outputs": [],
   "source": [
    "def make_many_corners_filled(list_of_samples, names, colors, linestyles, title=r'Dingo and Afterglowpy (Dingo $68\\%$) priors', meshgrid_number=50):\n",
    "    default_colors = plt.rcParams['axes.prop_cycle'].by_key()['color']\n",
    "    dingo_samples = list_of_samples[0]\n",
    "    dingo_DLs = [dingo_samples['DL']]\n",
    "    dingo_theta_obs = [dingo_samples['thetaObs']]\n",
    "\n",
    "    \n",
    "    list_of_samples = [np.array(samples) for samples in list_of_samples[1:]]\n",
    "\n",
    "    list_of_thetaObs = [samples[:, 0] for samples in list_of_samples]\n",
    "    list_of_DL = [samples[:, 1] for samples in list_of_samples]\n",
    "\n",
    "    list_of_thetaObs = dingo_theta_obs + list_of_thetaObs\n",
    "    list_of_DL = dingo_DLs + list_of_DL\n",
    "\n",
    "    \n",
    "\n",
    "    \n",
    "\n",
    "    datasets = [(theta_obs, DL, name, color, .8, linestyle) \n",
    "                for theta_obs, DL, name, color, linestyle \n",
    "                in zip(list_of_thetaObs, list_of_DL, names, colors, linestyles)]\n",
    "\n",
    "    # Gather all x and y values into single arrays for global min/max\n",
    "    all_thetaObs = np.concatenate([np.array(x) for x, _, _, _, _, _ in datasets])\n",
    "    all_DL = np.concatenate([np.array(y) for _, y, _, _, _, _ in datasets])\n",
    "    xmin, xmax = np.percentile(all_thetaObs, [1, 99])\n",
    "    ymin, ymax = np.percentile(all_DL, [1, 99])\n",
    "\n",
    "    xx, yy = np.meshgrid(\n",
    "        np.linspace(xmin, xmax, meshgrid_number),\n",
    "        np.linspace(ymin, ymax, meshgrid_number)\n",
    "    )\n",
    "    positions = np.vstack([xx.ravel(), yy.ravel()])\n",
    "\n",
    "    fig, ax = plt.subplots(figsize=(5, 4))\n",
    "\n",
    "    for x, y, label, color, alpha, linestyle in datasets:\n",
    "        samples = np.vstack([x, y])\n",
    "        kde = gaussian_kde(samples)\n",
    "        zz = kde(positions).reshape(xx.shape)\n",
    "\n",
    "        # Find the KDE values for 68% and 95% containment\n",
    "        z_sorted = np.sort(zz.ravel())[::-1]\n",
    "        cumulative = np.cumsum(z_sorted)\n",
    "        cumulative /= cumulative[-1]\n",
    "        level_68 = z_sorted[np.searchsorted(cumulative, 0.68)]\n",
    "        level_95 = z_sorted[np.searchsorted(cumulative, 0.95)]\n",
    "\n",
    "        # Fill the 68% region\n",
    "        ax.contourf(\n",
    "            xx, yy, zz, \n",
    "            levels=[level_68, zz.max()], \n",
    "            colors=[color], \n",
    "            alpha=0.3,\n",
    "            antialiased=True\n",
    "        )\n",
    "\n",
    "        # Draw the 68% outline (solid)\n",
    "        ax.contour(\n",
    "            xx, yy, zz, \n",
    "            levels=[level_68], \n",
    "            colors=[color], \n",
    "            linewidths=1.5, \n",
    "            linestyles=linestyle, \n",
    "            alpha=alpha, \n",
    "            label=label\n",
    "        )\n",
    "        # Draw the 95% outline (dashed, not filled)\n",
    "        ax.contour(\n",
    "            xx, yy, zz, \n",
    "            levels=[level_95], \n",
    "            colors=[color], \n",
    "            linewidths=1.2, \n",
    "            linestyles='dashed', \n",
    "            alpha=alpha,\n",
    "            label=None\n",
    "        )\n",
    "\n",
    "    # Add labels and legend\n",
    "    ax.set_xlabel(r'$\\theta_{obs}$ (rad)')\n",
    "    ax.set_ylabel('$D_L$ (Mpc)')\n",
    "    ax.set_title(title)\n",
    "\n",
    "    legend_elements = [\n",
    "        Line2D([0], [0], color=color, lw=2, label=f\"{label} 68%\", alpha=0.8, linestyle=linestyle)\n",
    "        for _, _, label, color, _, linestyle in datasets\n",
    "    ] + [\n",
    "        Line2D([0], [0], color='k', lw=1.2, label='95% contour', alpha=0.8, linestyle='dashed')\n",
    "    ]\n",
    "    plt.legend(handles=legend_elements, loc='lower center', bbox_to_anchor=(.5, -0.5), ncol=1)\n",
    "\n",
    "    plt.tight_layout()\n",
    "    plt.subplots_adjust(bottom=0.12)\n",
    "    plt.show()"
   ]
  },
  {
   "cell_type": "code",
   "execution_count": null,
   "id": "4fe6f6ac-76b9-4806-b8c2-06a7ea73bfc9",
   "metadata": {},
   "outputs": [],
   "source": []
  },
  {
   "cell_type": "code",
   "execution_count": null,
   "id": "3a544b3a-c4b8-4840-abd7-8f740e0cf798",
   "metadata": {},
   "outputs": [],
   "source": []
  },
  {
   "cell_type": "code",
   "execution_count": null,
   "id": "46bf09ae-e318-46f6-92ef-d0c391e39f94",
   "metadata": {},
   "outputs": [],
   "source": []
  },
  {
   "cell_type": "code",
   "execution_count": null,
   "id": "130c762c-2fcb-4e4e-94fe-139ad50a4f4d",
   "metadata": {},
   "outputs": [],
   "source": []
  },
  {
   "cell_type": "code",
   "execution_count": null,
   "id": "ae303e5f-ee03-437a-826c-e4a134bb451c",
   "metadata": {},
   "outputs": [],
   "source": []
  },
  {
   "cell_type": "code",
   "execution_count": null,
   "id": "50569099-bbc1-4908-be58-12e025bbde0b",
   "metadata": {},
   "outputs": [],
   "source": []
  }
 ],
 "metadata": {
  "kernelspec": {
   "display_name": "Python 3 (ipykernel)",
   "language": "python",
   "name": "python3"
  },
  "language_info": {
   "codemirror_mode": {
    "name": "ipython",
    "version": 3
   },
   "file_extension": ".py",
   "mimetype": "text/x-python",
   "name": "python",
   "nbconvert_exporter": "python",
   "pygments_lexer": "ipython3",
   "version": "3.13.3"
  }
 },
 "nbformat": 4,
 "nbformat_minor": 5
}
