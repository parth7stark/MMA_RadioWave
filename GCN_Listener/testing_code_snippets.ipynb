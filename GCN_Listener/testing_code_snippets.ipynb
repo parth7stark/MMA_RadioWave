{
 "cells": [
  {
   "cell_type": "markdown",
   "id": "ed9ec384",
   "metadata": {},
   "source": [
    "# Description\n",
    "\n",
    "In this notebook, I will test different code snippets"
   ]
  },
  {
   "cell_type": "markdown",
   "id": "c15f86be",
   "metadata": {},
   "source": [
    "## Testing: Match UTC time by GW module with time in gcn notice\n",
    "\n",
    "Time by GW module is in following format:\n",
    "detection_detail = {\n",
    "                \"GPS_time\": gps_time,\n",
    "                \"UTC_time\": utc_time.strftime(\"%Y-%m-%d %H:%M:%S\")\n",
    "            }\n",
    "\n",
    "Time of event in gcn initial notice is in following format\n",
    "time\n",
    "\n",
    "Time of event (UTC, ISO-8601), e.g. 2018-11-01T22:22:46.654Z\n",
    "\n",
    "Sometimes they dont have Z at the end (refer old_code/untitled_copy.ipynb)\n",
    "\n",
    "def parse_iso_datetime(date_str):\n",
    "    try:\n",
    "        # Try with Z\n",
    "        return datetime.datetime.strptime(date_str, \"%Y-%m-%dT%H:%M:%SZ\")\n",
    "    except ValueError:\n",
    "        # Fallback: try without Z\n",
    "        return datetime.datetime.strptime(date_str, \"%Y-%m-%dT%H:%M:%S\")\n",
    "    "
   ]
  },
  {
   "cell_type": "markdown",
   "id": "c15d7171",
   "metadata": {},
   "source": []
  }
 ],
 "metadata": {
  "language_info": {
   "name": "python"
  }
 },
 "nbformat": 4,
 "nbformat_minor": 5
}
