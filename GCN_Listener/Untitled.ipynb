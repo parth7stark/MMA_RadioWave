{
 "cells": [
  {
   "cell_type": "code",
   "execution_count": null,
   "id": "c8a52d5a-cbab-4b0d-b1b5-e6bda333eb2a",
   "metadata": {
    "tags": []
   },
   "outputs": [],
   "source": [
    "!pip install gcn-kafka"
   ]
  },
  {
   "cell_type": "code",
   "execution_count": 1,
   "id": "9b275ccb-ccc1-4be5-95d7-3f3aa38032af",
   "metadata": {
    "tags": []
   },
   "outputs": [],
   "source": [
    "from gcn_kafka import Consumer"
   ]
  },
  {
   "cell_type": "markdown",
   "id": "78ef5aff-b157-41db-b210-a193a9fe4157",
   "metadata": {},
   "source": [
    "# For Testing purposes\n",
    "\n",
    "I will only fetch messages in a single day for testing the script\n",
    "\n",
    "How can I search for messages occurring within a given date range?\n",
    "\n",
    "To search for messages in a given date range, you can use the offsets_for_times() function from the Consumer class to get the message offsets for the desired date range. You can then assign the starting offset to the Consumer and read the desired number of messages. When doing so, keep in mind that the stream buffers are finite in size. It is not possible to recover messages prior to the start of the stream buffer. The GCN stream buffers are currently set to hold messages from the past few days."
   ]
  },
  {
   "cell_type": "code",
   "execution_count": 2,
   "id": "d4b52976-516e-480c-afe5-d94b2cef661f",
   "metadata": {
    "tags": []
   },
   "outputs": [],
   "source": [
    "import datetime\n",
    "from gcn_kafka import Consumer\n",
    "from confluent_kafka import TopicPartition"
   ]
  },
  {
   "cell_type": "code",
   "execution_count": 4,
   "id": "e3345e06-837f-4a25-b72c-b35684e595d3",
   "metadata": {
    "tags": []
   },
   "outputs": [
    {
     "name": "stderr",
     "output_type": "stream",
     "text": [
      "%3|1730936115.193|FAIL|rdkafka#consumer-1| [thrd:sasl_ssl://kafka.gcn.nasa.gov:9092/bootstrap]: sasl_ssl://kafka.gcn.nasa.gov:9092/bootstrap: Failed to connect to broker at [2600:1f10:4f61:4a00:9f10:6cf4:5ba3:5812]:9092: Network is unreachable (after 3ms in state CONNECT)\n",
      "%3|1730936117.191|FAIL|rdkafka#consumer-1| [thrd:sasl_ssl://kafka.gcn.nasa.gov:9092/bootstrap]: sasl_ssl://kafka.gcn.nasa.gov:9092/bootstrap: Failed to connect to broker at [2600:1f10:4f61:4a00:9f10:6cf4:5ba3:5812]:9092: Network is unreachable (after 1ms in state CONNECT, 1 identical error(s) suppressed)\n",
      "%3|1730936117.587|FAIL|rdkafka#consumer-1| [thrd:GroupCoordinator]: GroupCoordinator: kafka1.gcn.nasa.gov:9092: Failed to connect to broker at [2600:1f10:4f61:4a00:79d8:1a49:534a:ee9]:9092: Network is unreachable (after 1ms in state CONNECT)\n"
     ]
    }
   ],
   "source": [
    "# Connect as a consumer (client \"MMA-app-Diaspora\")\n",
    "# Warning: don't share the client secret with others.\n",
    "consumer = Consumer(client_id='3f4l3qp0r2no2o4vnik7eg7ut0',\n",
    "                    client_secret='136doan9ouhbo0sl30r9h6s0d56ucrik58lcv9egl3c9e0i2s1o')"
   ]
  },
  {
   "cell_type": "code",
   "execution_count": null,
   "id": "22110bfa-a207-4d39-a6fb-77f7b2264553",
   "metadata": {
    "tags": []
   },
   "outputs": [],
   "source": [
    "# get messages occurring 1 days ago\n",
    "timestamp1 = int((datetime.datetime.now() - datetime.timedelta(days=3)).timestamp() * 1000)\n",
    "timestamp2 = timestamp1 + 86400000 # +1 day\n",
    "\n",
    "# I selected following topic for testing purpose\n",
    "# Subscribe to topics and receive alerts\n",
    "# consumer.subscribe(['gcn.classic.text.FERMI_GBM_ALERT'])\n",
    "# topic = 'gcn.classic.voevent.INTEGRAL_SPIACS'\n",
    "# topic = 'gcn.classic.text.FERMI_GBM_ALERT'\n",
    "\n",
    "topic = 'gcn.classic.text.GRB_FINAL'\n",
    "\n",
    "start = consumer.offsets_for_times(\n",
    "    [TopicPartition(topic, 0, timestamp1)])\n",
    "end = consumer.offsets_for_times(\n",
    "    [TopicPartition(topic, 0, timestamp2)])"
   ]
  },
  {
   "cell_type": "markdown",
   "id": "9f9861ec-a985-4f06-9b0a-169de9a4d2d6",
   "metadata": {},
   "source": [
    "### Ran into following error in both cells. When I run again, the error goes away\n",
    "\n",
    "%3|1729038170.336|FAIL|rdkafka#consumer-2| [thrd:sasl_ssl://kafka1.gcn.nasa.gov:9092/1]: sasl_ssl://kafka1.gcn.nasa.gov:9092/1: Failed to connect to broker at [2600:1f10:4f61:4a00:79d8:1a49:534a:ee9]:9092: Network is unreachable (after 70ms in state CONNECT)\n",
    "%3|1729038171.337|FAIL|rdkafka#consumer-2| [thrd:sasl_ssl://kafka1.gcn.nasa.gov:9092/1]: sasl_ssl://kafka1.gcn.nasa.gov:9092/1: Failed to connect to broker at [2600:1f10:4f61:4a00:79d8:1a49:534a:ee9]:9092: Network is unreachable (after 1ms in state CONNECT, 1 identical error(s) suppressed)\n",
    "\n",
    "SOlution:\n",
    "'retries': 5,  # Set retries in case of connection issues\n",
    "Connection Retry Logic: It’s good practice to include retry logic in your connection code to handle such intermittent issues. For example, you can include retries with exponential backoff so that your application tries to reconnect a few times before failing."
   ]
  },
  {
   "cell_type": "code",
   "execution_count": null,
   "id": "783e07d0-ea50-4869-90a0-d3d6c829be69",
   "metadata": {
    "tags": []
   },
   "outputs": [],
   "source": [
    "import pprint"
   ]
  },
  {
   "cell_type": "code",
   "execution_count": null,
   "id": "9629dd99-3647-47bd-9fe7-50ad53e2b972",
   "metadata": {
    "tags": []
   },
   "outputs": [],
   "source": [
    "consumer.assign(start)\n",
    "for message in consumer.consume(end[0].offset - start[0].offset, timeout=1):\n",
    "    print(\"\\n message1: \\n\")\n",
    "    # print(message.value())\n",
    "    print(message)"
   ]
  },
  {
   "cell_type": "markdown",
   "id": "9fba8955-a79e-43e7-983a-32c8636f3a45",
   "metadata": {},
   "source": [
    "## Messaage object has following fields\n",
    "\n",
    "https://docs.confluent.io/platform/current/clients/confluent-kafka-python/html/index.html#confluent_kafka.Message"
   ]
  },
  {
   "cell_type": "code",
   "execution_count": null,
   "id": "e44cbff5-8838-45b2-ab43-2ee91d3788c9",
   "metadata": {
    "tags": []
   },
   "outputs": [],
   "source": [
    "consumer.assign(start)\n",
    "for message in consumer.consume(end[0].offset - start[0].offset, timeout=1):\n",
    "    print(\"\\n message1: \\n\")\n",
    "    # print(message.value())\n",
    "    print(message.offset())\n",
    "    print(message.topic())\n",
    "    print(message.value()) "
   ]
  },
  {
   "cell_type": "markdown",
   "id": "0f944335-e95f-435e-9c1a-3339d41de215",
   "metadata": {},
   "source": [
    "## message.value()\n",
    "\n",
    "chatgpt\n",
    "\n",
    "To print the output more cleanly with newlines, you can decode the byte string to a regular string and replace the \\n characters with actual newlines. Here's how you can modify your code:\n",
    "\n",
    "python\n",
    "Copy code\n",
    "<code>\n",
    "consumer.assign(start)\n",
    "for message in consumer.consume(end[0].offset - start[0].offset, timeout=1):\n",
    "    print(\"\\nMessage:\\n\")\n",
    "    # Decode the byte message to a string\n",
    "    decoded_message = message.value().decode('utf-8')  # Decodes bytes to string\n",
    "    # Print the message with actual newlines\n",
    "    print(decoded_message)\n",
    "</code>\n",
    "Explanation:\n",
    "message.value() gives a byte string (as indicated by the b'').\n",
    ".decode('utf-8') converts it into a human-readable string.\n",
    "Since the string already contains \\n, it will automatically be printed as newlines in the output.\n",
    "This should print the output cleanly, without \\n literals."
   ]
  },
  {
   "cell_type": "code",
   "execution_count": null,
   "id": "7830bbdd-2315-45b1-9fe3-48d01e77c5c4",
   "metadata": {
    "tags": []
   },
   "outputs": [],
   "source": [
    "consumer.assign(start)\n",
    "for message in consumer.consume(end[0].offset - start[0].offset, timeout=1):\n",
    "    print(\"\\nMessage:\\n\")\n",
    "    \n",
    "    # Decode the byte message to a string\n",
    "    decoded_message = message.value().decode('utf-8')  # Decodes bytes to string\n",
    "    \n",
    "    # Print the message with actual newlines\n",
    "    print(decoded_message)"
   ]
  },
  {
   "cell_type": "code",
   "execution_count": 3,
   "id": "fe649734-7c14-47dd-a1bf-220668cd3ade",
   "metadata": {
    "tags": []
   },
   "outputs": [],
   "source": [
    "# Connect as a consumer (client \"MMA-app-Diaspora\")\n",
    "# Warning: don't share the client secret with others.\n",
    "config = {'auto.offset.reset': 'earliest'}\n",
    "consumer = Consumer(config=config,\n",
    "                    client_id='3f4l3qp0r2no2o4vnik7eg7ut0',\n",
    "                    client_secret='136doan9ouhbo0sl30r9h6s0d56ucrik58lcv9egl3c9e0i2s1o',\n",
    "                    domain='gcn.nasa.gov')"
   ]
  },
  {
   "cell_type": "code",
   "execution_count": 12,
   "id": "32a565d9-9704-4f08-8a54-f34dd8df004a",
   "metadata": {},
   "outputs": [],
   "source": [
    "# Subscribe to topics and receive alerts\n",
    "consumer.subscribe(['gcn.classic.text.LVC_COUNTERPART',\n",
    "                    'gcn.classic.text.LVC_EARLY_WARNING',\n",
    "                    'gcn.classic.text.LVC_INITIAL',\n",
    "                    'gcn.classic.text.LVC_PRELIMINARY',\n",
    "                    'gcn.classic.text.LVC_RETRACTION',\n",
    "                    'gcn.classic.text.LVC_TEST',\n",
    "                    'gcn.classic.text.LVC_UPDATE'])\n"
   ]
  },
  {
   "cell_type": "code",
   "execution_count": 4,
   "id": "41655dc8-02f2-4f49-b337-c38a280cc656",
   "metadata": {
    "tags": []
   },
   "outputs": [],
   "source": [
    "# consumer.subscribe(['gcn.classic.voevent.LVC_COUNTERPART',\n",
    "#                     'gcn.classic.voevent.LVC_EARLY_WARNING',\n",
    "#                     'gcn.classic.voevent.LVC_INITIAL',\n",
    "#                     'gcn.classic.voevent.LVC_PRELIMINARY',\n",
    "#                     'gcn.classic.voevent.LVC_RETRACTION',\n",
    "#                     'gcn.classic.voevent.LVC_UPDATE'])\n",
    "\n",
    "consumer.subscribe(['igwn.gwalert'])\n"
   ]
  },
  {
   "cell_type": "code",
   "execution_count": null,
   "id": "89024afe-4ca7-4215-8eee-876ba8415a3a",
   "metadata": {
    "tags": []
   },
   "outputs": [],
   "source": [
    "for message in consumer.consume(timeout=1):\n",
    "    if message.error():\n",
    "        print(message.error())\n",
    "        continue\n",
    "    # Print the topic and message ID\n",
    "    print(f'topic={message.topic()}, offset={message.offset()}')\n",
    "    value = message.value().decode('utf-8')\n",
    "    print(value)"
   ]
  },
  {
   "cell_type": "code",
   "execution_count": 19,
   "id": "b11a0130-080b-447a-b4fc-0c2dc0f94cc2",
   "metadata": {
    "tags": []
   },
   "outputs": [
    {
     "name": "stdout",
     "output_type": "stream",
     "text": [
      "Fetching messages for topic: gcn.classic.voevent.LVC_PRELIMINARY within date range.\n"
     ]
    },
    {
     "name": "stderr",
     "output_type": "stream",
     "text": [
      "%3|1730939388.299|FAIL|rdkafka#consumer-1| [thrd:GroupCoordinator]: GroupCoordinator: kafka1.gcn.nasa.gov:9092: Failed to connect to broker at [2600:1f10:4f61:4a00:79d8:1a49:534a:ee9]:9092: Network is unreachable (after 1ms in state CONNECT)\n"
     ]
    }
   ],
   "source": [
    "# List of topics to subscribe to\n",
    "# topics = [\n",
    "#     'gcn.classic.text.LVC_COUNTERPART',\n",
    "#     'gcn.classic.text.LVC_EARLY_WARNING',\n",
    "#     'gcn.classic.text.LVC_INITIAL',\n",
    "#     'gcn.classic.text.LVC_PRELIMINARY',\n",
    "#     'gcn.classic.text.LVC_RETRACTION',\n",
    "#     'gcn.classic.text.LVC_UPDATE'\n",
    "# ]\n",
    "\n",
    "# topics = [\n",
    "#     'gcn.classic.text.LVC_PRELIMINARY',\n",
    "# ]\n",
    "# topics = [\n",
    "#     'igwn.gwalert'\n",
    "# ]\n",
    "\n",
    "topics = [\n",
    "    'gcn.classic.voevent.LVC_PRELIMINARY',\n",
    "]\n",
    "\n",
    "# topics =[\n",
    "#     'gcn.circulars'\n",
    "# ]\n",
    "# Define date range (example: last 3 days)\n",
    "timestamp_start = int((datetime.datetime.now() - datetime.timedelta(days=30)).timestamp() * 1000)\n",
    "timestamp_end = int((datetime.datetime.now() - datetime.timedelta(days=1)).timestamp() * 1000)  # +1 day\n",
    "\n",
    "# Loop through each topic\n",
    "with open(\"gcn.classic.voevent.LVC_PRELIMINARY_Nov6_past30days.txt\", \"w\") as file:\n",
    "    for topic in topics:\n",
    "        print(f\"Fetching messages for topic: {topic} within date range.\")\n",
    "\n",
    "        # Get the starting and ending offsets for the desired date range\n",
    "        start_offsets = consumer.offsets_for_times([TopicPartition(topic, 0, timestamp_start)])\n",
    "        end_offsets = consumer.offsets_for_times([TopicPartition(topic, 0, timestamp_end)])\n",
    "\n",
    "        # Assign the starting offset to the consumer for the current topic\n",
    "        consumer.assign(start_offsets)\n",
    "\n",
    "        # Calculate the number of messages to read based on the offsets\n",
    "        num_messages = end_offsets[0].offset - start_offsets[0].offset\n",
    "        if num_messages <= 0:\n",
    "            print(f\"No messages found in the date range for topic: {topic}\")\n",
    "            continue\n",
    "\n",
    "        # Consume and print the messages for the topic within the date range\n",
    "        for message in consumer.consume(num_messages, timeout=1):\n",
    "            file.write(f\"Topic: {topic}, Message: {message.value().decode('utf-8')}\")\n",
    "            # print(f\"Topic: {topic}, Message: {message.value().decode('utf-8')}\")\n",
    "            \n",
    "            \n",
    "             # Decode the byte message to a string\n",
    "    #         decoded_message = message.value().decode('utf-8')  # Decodes bytes to string\n",
    "\n",
    "    #         # Print the message with actual newlines\n",
    "    #         print(decoded_message)\n",
    "\n",
    "# # Close the consumer after processing\n",
    "# consumer.close()"
   ]
  },
  {
   "cell_type": "code",
   "execution_count": null,
   "id": "a216fdfe-eb67-41cf-97e1-be3746e8bd2a",
   "metadata": {},
   "outputs": [],
   "source": []
  }
 ],
 "metadata": {
  "kernelspec": {
   "display_name": "Python [conda env:.conda-mma_radiowave]",
   "language": "python",
   "name": "conda-env-.conda-mma_radiowave-py"
  },
  "language_info": {
   "codemirror_mode": {
    "name": "ipython",
    "version": 3
   },
   "file_extension": ".py",
   "mimetype": "text/x-python",
   "name": "python",
   "nbconvert_exporter": "python",
   "pygments_lexer": "ipython3",
   "version": "3.9.18"
  }
 },
 "nbformat": 4,
 "nbformat_minor": 5
}
